{
 "cells": [
  {
   "cell_type": "code",
   "execution_count": 1,
   "id": "83c76abb",
   "metadata": {
    "scrolled": true
   },
   "outputs": [
    {
     "name": "stdout",
     "output_type": "stream",
     "text": [
      "\u001b[33mDEPRECATION: Configuring installation scheme with distutils config files is deprecated and will no longer work in the near future. If you are using a Homebrew or Linuxbrew Python, please see discussion at https://github.com/Homebrew/homebrew-core/issues/76621\u001b[0m\u001b[33m\n",
      "\u001b[0mRequirement already satisfied: laspy in /Users/nmhillesund/Library/Python/3.9/lib/python/site-packages (2.3.0)\n",
      "Requirement already satisfied: numpy in /usr/local/lib/python3.9/site-packages (from laspy) (1.25.2)\n",
      "\u001b[33mDEPRECATION: Configuring installation scheme with distutils config files is deprecated and will no longer work in the near future. If you are using a Homebrew or Linuxbrew Python, please see discussion at https://github.com/Homebrew/homebrew-core/issues/76621\u001b[0m\u001b[33m\n",
      "\u001b[0m\n",
      "\u001b[1m[\u001b[0m\u001b[34;49mnotice\u001b[0m\u001b[1;39;49m]\u001b[0m\u001b[39;49m A new release of pip is available: \u001b[0m\u001b[31;49m23.1.2\u001b[0m\u001b[39;49m -> \u001b[0m\u001b[32;49m23.3.1\u001b[0m\n",
      "\u001b[1m[\u001b[0m\u001b[34;49mnotice\u001b[0m\u001b[1;39;49m]\u001b[0m\u001b[39;49m To update, run: \u001b[0m\u001b[32;49m/usr/local/opt/python@3.9/bin/python3.9 -m pip install --upgrade pip\u001b[0m\n",
      "\u001b[33mDEPRECATION: Configuring installation scheme with distutils config files is deprecated and will no longer work in the near future. If you are using a Homebrew or Linuxbrew Python, please see discussion at https://github.com/Homebrew/homebrew-core/issues/76621\u001b[0m\u001b[33m\n",
      "\u001b[0mRequirement already satisfied: open3d in /usr/local/lib/python3.9/site-packages (0.17.0)\n",
      "Requirement already satisfied: numpy>=1.18.0 in /usr/local/lib/python3.9/site-packages (from open3d) (1.25.2)\n",
      "Requirement already satisfied: dash>=2.6.0 in /usr/local/lib/python3.9/site-packages (from open3d) (2.14.1)\n",
      "Requirement already satisfied: werkzeug>=2.2.3 in /usr/local/lib/python3.9/site-packages (from open3d) (3.0.1)\n",
      "Requirement already satisfied: nbformat==5.7.0 in /usr/local/lib/python3.9/site-packages (from open3d) (5.7.0)\n",
      "Requirement already satisfied: configargparse in /usr/local/lib/python3.9/site-packages (from open3d) (1.7)\n",
      "Requirement already satisfied: addict in /usr/local/lib/python3.9/site-packages (from open3d) (2.4.0)\n",
      "Requirement already satisfied: pillow>=9.3.0 in /usr/local/lib/python3.9/site-packages (from open3d) (10.0.0)\n",
      "Requirement already satisfied: matplotlib>=3 in /usr/local/lib/python3.9/site-packages (from open3d) (3.8.0)\n",
      "Requirement already satisfied: pandas>=1.0 in /usr/local/lib/python3.9/site-packages (from open3d) (2.1.0)\n",
      "Requirement already satisfied: pyyaml>=5.4.1 in /usr/local/lib/python3.9/site-packages (from open3d) (6.0.1)\n",
      "Requirement already satisfied: scikit-learn>=0.21 in /usr/local/lib/python3.9/site-packages (from open3d) (1.3.2)\n",
      "Requirement already satisfied: tqdm in /usr/local/lib/python3.9/site-packages (from open3d) (4.66.1)\n",
      "Requirement already satisfied: pyquaternion in /usr/local/lib/python3.9/site-packages (from open3d) (0.9.9)\n",
      "Requirement already satisfied: fastjsonschema in /usr/local/lib/python3.9/site-packages (from nbformat==5.7.0->open3d) (2.18.1)\n",
      "Requirement already satisfied: jsonschema>=2.6 in /usr/local/lib/python3.9/site-packages (from nbformat==5.7.0->open3d) (4.4.0)\n",
      "Requirement already satisfied: jupyter-core in /usr/local/lib/python3.9/site-packages (from nbformat==5.7.0->open3d) (4.9.2)\n",
      "Requirement already satisfied: traitlets>=5.1 in /usr/local/lib/python3.9/site-packages (from nbformat==5.7.0->open3d) (5.1.1)\n",
      "Requirement already satisfied: Flask<3.1,>=1.0.4 in /usr/local/lib/python3.9/site-packages (from dash>=2.6.0->open3d) (3.0.0)\n",
      "Requirement already satisfied: plotly>=5.0.0 in /usr/local/lib/python3.9/site-packages (from dash>=2.6.0->open3d) (5.18.0)\n",
      "Requirement already satisfied: dash-html-components==2.0.0 in /usr/local/lib/python3.9/site-packages (from dash>=2.6.0->open3d) (2.0.0)\n",
      "Requirement already satisfied: dash-core-components==2.0.0 in /usr/local/lib/python3.9/site-packages (from dash>=2.6.0->open3d) (2.0.0)\n",
      "Requirement already satisfied: dash-table==5.0.0 in /usr/local/lib/python3.9/site-packages (from dash>=2.6.0->open3d) (5.0.0)\n",
      "Requirement already satisfied: typing-extensions>=4.1.1 in /Users/nmhillesund/Library/Python/3.9/lib/python/site-packages (from dash>=2.6.0->open3d) (4.7.1)\n",
      "Requirement already satisfied: requests in /usr/local/lib/python3.9/site-packages (from dash>=2.6.0->open3d) (2.27.1)\n",
      "Requirement already satisfied: retrying in /usr/local/lib/python3.9/site-packages (from dash>=2.6.0->open3d) (1.3.4)\n",
      "Requirement already satisfied: ansi2html in /usr/local/lib/python3.9/site-packages (from dash>=2.6.0->open3d) (1.8.0)\n",
      "Requirement already satisfied: nest-asyncio in /usr/local/lib/python3.9/site-packages (from dash>=2.6.0->open3d) (1.5.4)\n",
      "Requirement already satisfied: setuptools in /usr/local/lib/python3.9/site-packages (from dash>=2.6.0->open3d) (60.5.0)\n",
      "Requirement already satisfied: importlib-metadata in /usr/local/lib/python3.9/site-packages (from dash>=2.6.0->open3d) (6.8.0)\n",
      "Requirement already satisfied: contourpy>=1.0.1 in /usr/local/lib/python3.9/site-packages (from matplotlib>=3->open3d) (1.1.1)\n",
      "Requirement already satisfied: cycler>=0.10 in /usr/local/lib/python3.9/site-packages (from matplotlib>=3->open3d) (0.11.0)\n",
      "Requirement already satisfied: fonttools>=4.22.0 in /usr/local/lib/python3.9/site-packages (from matplotlib>=3->open3d) (4.42.1)\n",
      "Requirement already satisfied: kiwisolver>=1.0.1 in /usr/local/lib/python3.9/site-packages (from matplotlib>=3->open3d) (1.4.5)\n",
      "Requirement already satisfied: packaging>=20.0 in /usr/local/lib/python3.9/site-packages (from matplotlib>=3->open3d) (21.3)\n",
      "Requirement already satisfied: pyparsing>=2.3.1 in /usr/local/lib/python3.9/site-packages (from matplotlib>=3->open3d) (3.0.7)\n",
      "Requirement already satisfied: python-dateutil>=2.7 in /usr/local/lib/python3.9/site-packages (from matplotlib>=3->open3d) (2.8.2)\n",
      "Requirement already satisfied: importlib-resources>=3.2.0 in /usr/local/lib/python3.9/site-packages (from matplotlib>=3->open3d) (6.0.1)\n",
      "Requirement already satisfied: pytz>=2020.1 in /usr/local/lib/python3.9/site-packages (from pandas>=1.0->open3d) (2021.3)\n",
      "Requirement already satisfied: tzdata>=2022.1 in /usr/local/lib/python3.9/site-packages (from pandas>=1.0->open3d) (2023.3)\n",
      "Requirement already satisfied: scipy>=1.5.0 in /usr/local/lib/python3.9/site-packages (from scikit-learn>=0.21->open3d) (1.11.3)\n",
      "Requirement already satisfied: joblib>=1.1.1 in /usr/local/lib/python3.9/site-packages (from scikit-learn>=0.21->open3d) (1.3.2)\n",
      "Requirement already satisfied: threadpoolctl>=2.0.0 in /usr/local/lib/python3.9/site-packages (from scikit-learn>=0.21->open3d) (3.2.0)\n",
      "Requirement already satisfied: MarkupSafe>=2.1.1 in /usr/local/lib/python3.9/site-packages (from werkzeug>=2.2.3->open3d) (2.1.1)\n",
      "Requirement already satisfied: Jinja2>=3.1.2 in /usr/local/lib/python3.9/site-packages (from Flask<3.1,>=1.0.4->dash>=2.6.0->open3d) (3.1.2)\n",
      "Requirement already satisfied: itsdangerous>=2.1.2 in /usr/local/lib/python3.9/site-packages (from Flask<3.1,>=1.0.4->dash>=2.6.0->open3d) (2.1.2)\n",
      "Requirement already satisfied: click>=8.1.3 in /usr/local/lib/python3.9/site-packages (from Flask<3.1,>=1.0.4->dash>=2.6.0->open3d) (8.1.7)\n",
      "Requirement already satisfied: blinker>=1.6.2 in /usr/local/lib/python3.9/site-packages (from Flask<3.1,>=1.0.4->dash>=2.6.0->open3d) (1.6.3)\n",
      "Requirement already satisfied: zipp>=0.5 in /usr/local/lib/python3.9/site-packages (from importlib-metadata->dash>=2.6.0->open3d) (3.16.2)\n",
      "Requirement already satisfied: attrs>=17.4.0 in /usr/local/lib/python3.9/site-packages (from jsonschema>=2.6->nbformat==5.7.0->open3d) (21.4.0)\n",
      "Requirement already satisfied: pyrsistent!=0.17.0,!=0.17.1,!=0.17.2,>=0.14.0 in /usr/local/lib/python3.9/site-packages (from jsonschema>=2.6->nbformat==5.7.0->open3d) (0.18.1)\n",
      "Requirement already satisfied: tenacity>=6.2.0 in /usr/local/lib/python3.9/site-packages (from plotly>=5.0.0->dash>=2.6.0->open3d) (8.2.3)\n",
      "Requirement already satisfied: six>=1.5 in /usr/local/lib/python3.9/site-packages (from python-dateutil>=2.7->matplotlib>=3->open3d) (1.16.0)\n",
      "Requirement already satisfied: urllib3<1.27,>=1.21.1 in /usr/local/lib/python3.9/site-packages (from requests->dash>=2.6.0->open3d) (1.26.8)\n",
      "Requirement already satisfied: certifi>=2017.4.17 in /usr/local/lib/python3.9/site-packages (from requests->dash>=2.6.0->open3d) (2021.10.8)\n",
      "Requirement already satisfied: charset-normalizer~=2.0.0 in /Users/nmhillesund/Library/Python/3.9/lib/python/site-packages (from requests->dash>=2.6.0->open3d) (2.0.10)\n"
     ]
    },
    {
     "name": "stdout",
     "output_type": "stream",
     "text": [
      "Requirement already satisfied: idna<4,>=2.5 in /usr/local/lib/python3.9/site-packages (from requests->dash>=2.6.0->open3d) (3.3)\n",
      "\u001b[33mDEPRECATION: Configuring installation scheme with distutils config files is deprecated and will no longer work in the near future. If you are using a Homebrew or Linuxbrew Python, please see discussion at https://github.com/Homebrew/homebrew-core/issues/76621\u001b[0m\u001b[33m\n",
      "\u001b[0m\n",
      "\u001b[1m[\u001b[0m\u001b[34;49mnotice\u001b[0m\u001b[1;39;49m]\u001b[0m\u001b[39;49m A new release of pip is available: \u001b[0m\u001b[31;49m23.1.2\u001b[0m\u001b[39;49m -> \u001b[0m\u001b[32;49m23.3.1\u001b[0m\n",
      "\u001b[1m[\u001b[0m\u001b[34;49mnotice\u001b[0m\u001b[1;39;49m]\u001b[0m\u001b[39;49m To update, run: \u001b[0m\u001b[32;49m/usr/local/opt/python@3.9/bin/python3.9 -m pip install --upgrade pip\u001b[0m\n",
      "Defaulting to user installation because normal site-packages is not writeable\n",
      "Requirement already satisfied: laspy[laszip,lazrs] in /Users/nmhillesund/Library/Python/3.9/lib/python/site-packages (2.3.0)\n",
      "Requirement already satisfied: numpy in /Library/Frameworks/Python.framework/Versions/3.9/lib/python3.9/site-packages (from laspy[laszip,lazrs]) (1.20.2)\n",
      "Requirement already satisfied: lazrs<0.5.0,>=0.4.3 in /Users/nmhillesund/Library/Python/3.9/lib/python/site-packages (from laspy[laszip,lazrs]) (0.4.5)\n",
      "Requirement already satisfied: laszip<0.2.0,>=0.1.0 in /Users/nmhillesund/Library/Python/3.9/lib/python/site-packages (from laspy[laszip,lazrs]) (0.1.0)\n",
      "\n",
      "\u001b[1m[\u001b[0m\u001b[34;49mnotice\u001b[0m\u001b[1;39;49m]\u001b[0m\u001b[39;49m A new release of pip is available: \u001b[0m\u001b[31;49m23.1.2\u001b[0m\u001b[39;49m -> \u001b[0m\u001b[32;49m23.3.1\u001b[0m\n",
      "\u001b[1m[\u001b[0m\u001b[34;49mnotice\u001b[0m\u001b[1;39;49m]\u001b[0m\u001b[39;49m To update, run: \u001b[0m\u001b[32;49mpython3 -m pip install --upgrade pip\u001b[0m\n"
     ]
    }
   ],
   "source": [
    "!pip install laspy\n",
    "!pip install open3d\n",
    "!python3 -m pip install \"laspy[lazrs,laszip]\""
   ]
  },
  {
   "cell_type": "code",
   "execution_count": 2,
   "id": "b9ab59ed",
   "metadata": {},
   "outputs": [],
   "source": [
    "# Imports\n",
    "\n",
    "import laspy \n",
    "import open3d as o3d\n",
    "import numpy as np\n",
    "import os\n",
    "import matplotlib.pyplot as plt"
   ]
  },
  {
   "cell_type": "code",
   "execution_count": 17,
   "id": "e7e2b84d",
   "metadata": {},
   "outputs": [
    {
     "name": "stdout",
     "output_type": "stream",
     "text": [
      "\u001b[1;33m[Open3D WARNING] GLFW Error: Cocoa: Failed to find service port for display\u001b[0;m\n",
      "\u001b[1;33m[Open3D WARNING] GLFW Error: Cocoa: Failed to find service port for display\u001b[0;m\n",
      "From 15568025 to 11248498. Equals a 27.74614634804351% reduction\n"
     ]
    }
   ],
   "source": [
    "# Read the data\n",
    "laz_path = \"data.laz\"\n",
    "laz_data = laspy.read(laz_path)\n",
    "\n",
    "# Get the classifications in the data\n",
    "classifications = laz_data.classification\n",
    "\n",
    "# Extract the points\n",
    "points = np.vstack((laz_data.x, laz_data.y, laz_data.z)).transpose()\n",
    "\n",
    "# Filter the points based on the classification (in this case: 1)\n",
    "filter_points = points[classifications == 1]\n",
    "\n",
    "# Create an empty Open3D point cloud object\n",
    "point_cloud_object = o3d.geometry.PointCloud()\n",
    "\n",
    "# Insert the filtered points into the point cloud object\n",
    "point_cloud_object.points = o3d.utility.Vector3dVector(filter_points)\n",
    "\n",
    "o3d.visualization.draw_geometries([point_cloud_object])\n",
    "\n",
    "# Check the reducion of points by this filtering\n",
    "num_org = points.shape[0]\n",
    "num_filt = filter_points.shape[0]\n",
    "reduction = 100-(num_filt/num_org * 100)\n",
    "print(f'From {num_org} to {num_filt}. Equals a {round(reduction,2)}% reduction')"
   ]
  },
  {
   "cell_type": "code",
   "execution_count": 20,
   "id": "c8200083",
   "metadata": {},
   "outputs": [
    {
     "name": "stdout",
     "output_type": "stream",
     "text": [
      "From 11248498 to 6201677 points. Equals a 44.866621303573154 % reduction\n",
      "\u001b[1;33m[Open3D WARNING] GLFW Error: Cocoa: Failed to find service port for display\u001b[0;m\n",
      "\u001b[1;33m[Open3D WARNING] GLFW Error: Cocoa: Failed to find service port for display\u001b[0;m\n"
     ]
    }
   ],
   "source": [
    "# Downsampling\n",
    "\n",
    "point_cloud_ds = point_cloud_object.voxel_down_sample(voxel_size=0.25)\n",
    "\n",
    "# Check the reducion of points after downsampling\n",
    "num_ds = len(point_cloud_ds.points)\n",
    "print(f'From {num_filt} to {num_ds} points. Equals a {100-(num_ds/num_filt * 100)} % reduction')\n",
    "o3d.visualization.draw_geometries([point_cloud_ds])"
   ]
  },
  {
   "cell_type": "code",
   "execution_count": 21,
   "id": "a85f409a",
   "metadata": {},
   "outputs": [
    {
     "name": "stdout",
     "output_type": "stream",
     "text": [
      "\u001b[1;33m[Open3D WARNING] GLFW Error: Cocoa: Failed to find service port for display\u001b[0;m\n",
      "\u001b[1;33m[Open3D WARNING] GLFW Error: Cocoa: Failed to find service port for display\u001b[0;m\n",
      "From 6201677 to 5319733 points. Equals a 14.221056659351987 % reduction\n"
     ]
    }
   ],
   "source": [
    "# Remove statistical outliers\n",
    "\n",
    "point_cloud_so, ind = point_cloud_ds.remove_statistical_outlier(nb_neighbors=20, std_ratio=0.2)\n",
    "o3d.visualization.draw_geometries([point_cloud_so])\n",
    "# Check the reducion of points after removing statistical outliers\n",
    "num_so = len(point_cloud_so.points)\n",
    "print(f'From {num_ds} to {num_so} points. Equals a {100-(num_so/num_ds * 100)} % reduction')"
   ]
  },
  {
   "cell_type": "code",
   "execution_count": 22,
   "id": "0e6328ff",
   "metadata": {},
   "outputs": [
    {
     "data": {
      "image/png": "[encoded data removed]",
      "text/plain": [
       "<Figure size 720x432 with 1 Axes>"
      ]
     },
     "metadata": {
      "needs_background": "light"
     },
     "output_type": "display_data"
    }
   ],
   "source": [
    "# Height histogram\n",
    "\n",
    "# Convert the point cloud to a numpy array\n",
    "points = np.asarray(point_cloud_object.points)\n",
    "\n",
    "# Extract the height (z) values\n",
    "z_values = points[:, 2]\n",
    "\n",
    "# Plot the histogram\n",
    "plt.figure(figsize=(10, 6))\n",
    "plt.hist(z_values, bins=100, color='blue', alpha=1)\n",
    "plt.xlabel('Height (Z) value')\n",
    "plt.ylabel('Number of Points')\n",
    "plt.title('Height Histogram')\n",
    "plt.grid(True)\n",
    "plt.show()"
   ]
  },
  {
   "cell_type": "code",
   "execution_count": 23,
   "id": "3a5dd43e",
   "metadata": {},
   "outputs": [
    {
     "name": "stdout",
     "output_type": "stream",
     "text": [
      "\u001b[1;33m[Open3D WARNING] GLFW Error: Cocoa: Failed to find service port for display\u001b[0;m\n",
      "\u001b[1;33m[Open3D WARNING] GLFW Error: Cocoa: Failed to find service port for display\u001b[0;m\n",
      "From 5319733 to 1138734 points. Equals a 78.59415124781638\n"
     ]
    }
   ],
   "source": [
    "# Filter point cloud based on height\n",
    "\n",
    "# Create a new Numpy array with the points\n",
    "points = np.asarray(point_cloud_so.points)\n",
    "\n",
    "# Define a height threshold\n",
    "height_threshold = 8\n",
    "\n",
    "# Filter out points below the height threshold\n",
    "height_filtered_points = points[points[:, 2] >= height_threshold]\n",
    "\n",
    "# Create a new point cloud with the height filtered points\n",
    "height_point_cloud = o3d.geometry.PointCloud()\n",
    "height_point_cloud.points = o3d.utility.Vector3dVector(height_filtered_points)\n",
    "o3d.visualization.draw_geometries([height_point_cloud])\n",
    "\n",
    "# Check the reducion of points after filtering on height\n",
    "num_height = len(height_point_cloud.points)\n",
    "print(f'From {num_so} to {num_height} points. Equals a {100-(num_height/num_so * 100)}')"
   ]
  },
  {
   "cell_type": "code",
   "execution_count": 8,
   "id": "c6f1b207",
   "metadata": {},
   "outputs": [
    {
     "data": {
      "text/plain": [
       "\"\\ndef filter_point_cloud_by_height(point_cloud, height_threshold = 8):\\n    # Extract the point coordinates as a NumPy array\\n    points = np.asarray(point_cloud.points)\\n\\n    # Filter the points based on height\\n    filtered_points = points[points[:, 2] >= height_threshold]\\n\\n    # Create a new PointCloud object with the filtered points\\n    filtered_point_cloud = o3d.geometry.PointCloud()\\n    filtered_point_cloud.points = o3d.utility.Vector3dVector(filtered_points)\\n\\n    return filtered_point_cloud\\n\\n# Filter the point cloud based on the height threshold\\nfiltered_point_cloud = filter_point_cloud_by_height(cld)\\nnum4 = len(filtered_point_cloud.points)\\nprint(f'reduced from {num3} to {num4} points')\\nprint(f' {100-(num4/num3 * 100)} % less points')\\n\""
      ]
     },
     "execution_count": 8,
     "metadata": {},
     "output_type": "execute_result"
    }
   ],
   "source": [
    "\"\"\"\n",
    "def filter_point_cloud_by_height(point_cloud, height_threshold = 8):\n",
    "    # Extract the point coordinates as a NumPy array\n",
    "    points = np.asarray(point_cloud.points)\n",
    "\n",
    "    # Filter the points based on height\n",
    "    filtered_points = points[points[:, 2] >= height_threshold]\n",
    "\n",
    "    # Create a new PointCloud object with the filtered points\n",
    "    filtered_point_cloud = o3d.geometry.PointCloud()\n",
    "    filtered_point_cloud.points = o3d.utility.Vector3dVector(filtered_points)\n",
    "\n",
    "    return filtered_point_cloud\n",
    "\n",
    "# Filter the point cloud based on the height threshold\n",
    "filtered_point_cloud = filter_point_cloud_by_height(cld)\n",
    "num4 = len(filtered_point_cloud.points)\n",
    "print(f'reduced from {num3} to {num4} points')\n",
    "print(f' {100-(num4/num3 * 100)} % less points')\n",
    "\"\"\""
   ]
  },
  {
   "cell_type": "code",
   "execution_count": 24,
   "id": "29296bcc",
   "metadata": {},
   "outputs": [
    {
     "name": "stdout",
     "output_type": "stream",
     "text": [
      "[Open3D DEBUG] Precompute neighbors.\n",
      "[Open3D DEBUG] Done Precompute neighbors.Precompute neighbors.[=>                                      ] 2%\n",
      "[Open3D DEBUG] Compute Clusters\n",
      "Precompute neighbors.[================>           [Open3D DEBUG] Done Compute Clusters: 896\n",
      "Precompute neighbors.[========================================] 100%\n",
      "point cloud has 896 clusters======================>] 97%\n",
      "\u001b[1;33m[Open3D WARNING] GLFW Error: Cocoa: Failed to find service port for display\u001b[0;m\n",
      "\u001b[1;33m[Open3D WARNING] GLFW Error: Cocoa: Failed to find service port for display\u001b[0;m\n"
     ]
    }
   ],
   "source": [
    "# Find clusters\n",
    "\n",
    "with o3d.utility.VerbosityContextManager(\n",
    "        o3d.utility.VerbosityLevel.Debug) as cm:\n",
    "    labels = np.array(\n",
    "        height_point_cloud.cluster_dbscan(eps=0.4, min_points=4, print_progress=True))\n",
    "\n",
    "max_label = labels.max()\n",
    "print(f\"point cloud has {max_label + 1} clusters\")\n",
    "colors = plt.get_cmap(\"tab20\")(labels / (max_label if max_label > 0 else 1))\n",
    "colors[labels < 0] = 0\n",
    "height_point_cloud.colors = o3d.utility.Vector3dVector(colors[:, :3])\n",
    "o3d.visualization.draw_geometries([height_point_cloud])"
   ]
  },
  {
   "cell_type": "code",
   "execution_count": 25,
   "id": "abe5e3c9",
   "metadata": {},
   "outputs": [],
   "source": [
    "# Extract individual point clouds to remove unwanted clusters\n",
    "\n",
    "ind_point_clouds = []\n",
    "for cluster_label in range(max_label + 1):\n",
    "    \n",
    "    cluster_indices = np.where(labels == cluster_label)[0]\n",
    "    \n",
    "    cluster_points = height_point_cloud.select_by_index(cluster_indices)\n",
    "\n",
    "    # Remove clusters under a certain size\n",
    "    cluster_size = len(cluster_points.points)\n",
    "    if(4000 < cluster_size):\n",
    "        ind_point_clouds.append(cluster_points)"
   ]
  },
  {
   "cell_type": "code",
   "execution_count": 26,
   "id": "de9cf0cb",
   "metadata": {},
   "outputs": [
    {
     "data": {
      "text/plain": [
       "1018371"
      ]
     },
     "execution_count": 26,
     "metadata": {},
     "output_type": "execute_result"
    }
   ],
   "source": [
    "# Create an empty point cloud for the complete point cloud\n",
    "complete_point_cloud = o3d.geometry.PointCloud()\n",
    "\n",
    "# Iterate over each individual point cloud and add it to the complete point cloud\n",
    "for point_cloud in ind_point_clouds:\n",
    "    complete_point_cloud += point_cloud\n",
    "\n",
    "# Visualize the complete point cloud\n",
    "#o3d.visualization.draw_geometries([complete_point_cloud])\n",
    "\n",
    "# Return the number of points in the complete point cloud\n",
    "len(np.asarray(complete_point_cloud.points))"
   ]
  },
  {
   "cell_type": "code",
   "execution_count": 29,
   "id": "dffef390",
   "metadata": {},
   "outputs": [
    {
     "name": "stdout",
     "output_type": "stream",
     "text": [
      "Plane equation: -0.00x + 0.00y + 1.00z + -20595.07 = 0\n",
      "Plane equation: -0.07x + 0.02y + 1.00z + -115130.39 = 0\n",
      "Plane equation: 0.00x + 0.00y + 1.00z + -25335.36 = 0\n",
      "Plane equation: -0.33x + 0.09y + 0.94z + -434415.85 = 0\n",
      "Plane equation: 0.00x + 0.00y + 1.00z + -323.68 = 0\n",
      "Plane equation: -0.13x + -0.34y + 0.93z + 2434800.23 = 0\n",
      "Plane equation: -0.01x + 0.00y + 1.00z + -10321.37 = 0\n",
      "Plane equation: 0.00x + -0.00y + 1.00z + 14660.19 = 0\n",
      "Plane equation: -0.00x + 0.00y + 1.00z + -3163.43 = 0\n",
      "Plane equation: 0.00x + 0.00y + 1.00z + -16958.07 = 0\n",
      "Plane equation: -0.11x + -0.30y + 0.95z + 2139220.49 = 0\n",
      "Plane equation: -0.11x + -0.29y + 0.95z + 2128058.22 = 0\n",
      "Plane equation: 0.00x + 0.00y + 1.00z + -32928.08 = 0\n",
      "Plane equation: 0.00x + 0.00y + 1.00z + -12057.38 = 0\n",
      "Plane equation: -0.00x + 0.01y + 1.00z + -41705.15 = 0\n",
      "Plane equation: -0.00x + 0.00y + 1.00z + -2460.92 = 0\n",
      "Plane equation: 0.00x + 0.00y + 1.00z + -23372.43 = 0\n",
      "Plane equation: 0.00x + -0.00y + 1.00z + -328.45 = 0\n",
      "Plane equation: -0.28x + 0.30y + 0.91z + -1930338.82 = 0\n",
      "Plane equation: 0.11x + 0.30y + 0.95z + -2146182.16 = 0\n",
      "Plane equation: 0.00x + 0.00y + 1.00z + -1322.32 = 0\n",
      "Plane equation: -0.11x + -0.29y + 0.95z + 2126064.90 = 0\n",
      "Plane equation: 0.01x + -0.01y + 1.00z + 35086.33 = 0\n",
      "Plane equation: -0.22x + 0.08y + 0.97z + -420998.41 = 0\n",
      "Plane equation: -0.22x + 0.08y + 0.97z + -436028.87 = 0\n",
      "Plane equation: -0.01x + 0.01y + 1.00z + -34926.50 = 0\n",
      "Plane equation: 0.00x + 0.01y + 1.00z + -41356.44 = 0\n",
      "Plane equation: -0.12x + -0.01y + 0.99z + 143235.51 = 0\n",
      "Plane equation: -0.00x + -0.00y + 1.00z + 3732.29 = 0\n",
      "Plane equation: 0.01x + -0.33y + 0.95z + 2287248.66 = 0\n",
      "Plane equation: -0.04x + 0.01y + 1.00z + -41913.50 = 0\n",
      "Plane equation: -0.00x + 0.00y + 1.00z + -1879.10 = 0\n",
      "Plane equation: -0.02x + 0.14y + 0.99z + -958052.14 = 0\n",
      "Plane equation: -0.10x + 0.06y + 0.99z + -380830.24 = 0\n",
      "Plane equation: -0.00x + -0.00y + 1.00z + 5181.26 = 0\n",
      "Plane equation: -0.00x + 0.01y + 1.00z + -38631.19 = 0\n",
      "Plane equation: 0.00x + 0.00y + 1.00z + -23814.98 = 0\n",
      "Plane equation: -0.04x + 0.33y + 0.94z + -2268712.68 = 0\n",
      "Plane equation: -0.02x + 0.01y + 1.00z + -27270.16 = 0\n",
      "Plane equation: -0.09x + -0.16y + 0.98z + 1143768.23 = 0\n",
      "Plane equation: 0.01x + 0.00y + 1.00z + -39132.01 = 0\n",
      "Plane equation: 0.02x + 0.01y + 1.00z + -91559.77 = 0\n",
      "Plane equation: -0.00x + -0.00y + 1.00z + 19616.78 = 0\n",
      "Plane equation: 0.01x + -0.03y + 1.00z + 192769.38 = 0\n",
      "Plane equation: 0.00x + 0.00y + 1.00z + -7535.43 = 0\n",
      "Plane equation: 0.00x + -0.00y + 1.00z + 6805.93 = 0\n",
      "Plane equation: 0.03x + 0.01y + 1.00z + -62320.27 = 0\n",
      "Plane equation: 0.01x + 0.01y + 1.00z + -100172.82 = 0\n",
      "Plane equation: -0.05x + -0.20y + 0.98z + 1442577.41 = 0\n",
      "Plane equation: -0.00x + -0.00y + 1.00z + 2970.70 = 0\n",
      "Plane equation: 0.00x + 0.00y + 1.00z + -23930.76 = 0\n",
      "Plane equation: 0.00x + 0.00y + 1.00z + -2694.88 = 0\n",
      "Plane equation: 0.00x + 0.00y + 1.00z + -4908.11 = 0\n",
      "Plane equation: -0.01x + 0.01y + 1.00z + -100687.72 = 0\n",
      "\u001b[1;33m[Open3D WARNING] GLFW Error: Cocoa: Failed to find service port for display\u001b[0;m\n",
      "\u001b[1;33m[Open3D WARNING] GLFW Error: Cocoa: Failed to find service port for display\u001b[0;m\n"
     ]
    }
   ],
   "source": [
    "# Plane estimation using RANSAC\n",
    "\n",
    "detected_point_cloud = o3d.geometry.PointCloud()\n",
    "planes = []\n",
    "\n",
    "for point_cloud in ind_point_clouds:     \n",
    "    plane_model, inliers = point_cloud.segment_plane(distance_threshold=0.2, ransac_n=5, num_iterations=5000) \n",
    "    [a,b,c,d] = plane_model\n",
    "    print(f\"Plane equation: {a:.2f}x + {b:.2f}y + {c:.2f}z + {d:.2f} = 0\")\n",
    "    \n",
    "    inlier_cloud = point_cloud.select_by_index(inliers) \n",
    "    inlier_cloud.paint_uniform_color([0, 0, 1])\n",
    "    outlier_cloud = point_cloud.select_by_index(inliers, invert = True)\n",
    "    \n",
    "    # Create a Numpy array with the inliers\n",
    "    inlier_points = np.asarray(inlier_cloud.points)\n",
    "\n",
    "    # Add the inliers to the final point cloud\n",
    "    new_inlier_points = np.concatenate((np.asarray(detected_point_cloud.points), inlier_points), axis=0)\n",
    "    detected_point_cloud.points = o3d.utility.Vector3dVector(new_inlier_points)\n",
    "    \n",
    "    planes.append(plane_model)\n",
    "\n",
    "o3d.visualization.draw_geometries([detected_point_cloud])"
   ]
  },
  {
   "cell_type": "code",
   "execution_count": 30,
   "id": "ef92f0c6",
   "metadata": {},
   "outputs": [
    {
     "name": "stdout",
     "output_type": "stream",
     "text": [
      "\u001b[1;33m[Open3D WARNING] GLFW Error: Cocoa: Failed to find service port for display\u001b[0;m\n",
      "\u001b[1;33m[Open3D WARNING] GLFW Error: Cocoa: Failed to find service port for display\u001b[0;m\n"
     ]
    }
   ],
   "source": [
    "# Visualize the detected roof planes\n",
    "\n",
    "# Create Numpy arrays for the complete point cloud and the final point cloud\n",
    "complete_point_cloud_np = np.asarray(complete_point_cloud.points)\n",
    "detected_point_cloud_np = np.asarray(detected_point_cloud.points)\n",
    "\n",
    "# Distinguish the color of the two point clouds\n",
    "complete_point_cloud.colors = o3d.utility.Vector3dVector(np.array([1, 0, 0] * len(complete_point_cloud_np)).reshape(-1, 3))\n",
    "detected_point_cloud.colors = o3d.utility.Vector3dVector(np.array([0, 0, 1] * len(detected_point_cloud_np)).reshape(-1, 3))\n",
    "\n",
    "# Add the points cloud together\n",
    "entire_point_cloud =  detected_point_cloud + complete_point_cloud\n",
    "\n",
    "o3d.visualization.draw_geometries([entire_point_cloud], left=100 )"
   ]
  },
  {
   "cell_type": "code",
   "execution_count": 53,
   "id": "52a63334",
   "metadata": {},
   "outputs": [],
   "source": [
    "\n",
    "final_point_clouds = []\n",
    "planes = []\n",
    "\n",
    "for point_cloud in ind_point_clouds: \n",
    "    plane_model, inliers = point_cloud.segment_plane(distance_threshold=0.2, ransac_n=5, num_iterations=2000) \n",
    "    [a,b,c,d] = plane_model\n",
    "    inlier_cloud = point_cloud.select_by_index(inliers) \n",
    "    inlier_cloud.paint_uniform_color([0, 0, 1])\n",
    "    outlier_cloud = point_cloud.select_by_index(inliers, invert = True)\n",
    "    \n",
    "    inlier_points = np.asarray(inlier_cloud.points)\n",
    "\n",
    "    #make new cloud and add to list\n",
    "    ransac_plane = o3d.geometry.PointCloud()\n",
    "    ransac_plane.points = o3d.utility.Vector3dVector(inlier_points)\n",
    "    final_point_clouds.append(ransac_plane)\n",
    "    planes.append(plane_model)"
   ]
  },
  {
   "cell_type": "code",
   "execution_count": 71,
   "id": "344fed4f",
   "metadata": {},
   "outputs": [
    {
     "name": "stdout",
     "output_type": "stream",
     "text": [
      "\u001b[1;33m[Open3D WARNING] GLFW Error: Cocoa: Failed to find service port for display\u001b[0;m\n",
      "\u001b[1;33m[Open3D WARNING] GLFW Error: Cocoa: Failed to find service port for display\u001b[0;m\n",
      "Plane equation for point cloud number 11: 0.11x + 0.29y + 0.95z + -2128467.28 = 0\n"
     ]
    }
   ],
   "source": [
    "index = np.random.randint(0, len(final_point_clouds)-1)\n",
    "\n",
    "final_point_clouds[index].paint_uniform_color([0,0,1])\n",
    "o3d.visualization.draw_geometries([final_point_clouds[index]])\n",
    "[a,b,c,d] = planes[index]\n",
    "print(f\"Plane equation for point cloud number {str(index+1)}: {a:.2f}x + {b:.2f}y + {c:.2f}z + {d:.2f} = 0\")"
   ]
  }
 ],
 "metadata": {
  "kernelspec": {
   "display_name": "Python 3 (ipykernel)",
   "language": "python",
   "name": "python3"
  },
  "language_info": {
   "codemirror_mode": {
    "name": "ipython",
    "version": 3
   },
   "file_extension": ".py",
   "mimetype": "text/x-python",
   "name": "python",
   "nbconvert_exporter": "python",
   "pygments_lexer": "ipython3",
   "version": "3.9.10"
  }
 },
 "nbformat": 4,
 "nbformat_minor": 5
}
