{
 "cells": [
  {
   "cell_type": "code",
   "execution_count": 1,
   "id": "83c76abb",
   "metadata": {
    "scrolled": true
   },
   "outputs": [
    {
     "name": "stdout",
     "output_type": "stream",
     "text": [
      "\u001b[33mDEPRECATION: Configuring installation scheme with distutils config files is deprecated and will no longer work in the near future. If you are using a Homebrew or Linuxbrew Python, please see discussion at https://github.com/Homebrew/homebrew-core/issues/76621\u001b[0m\u001b[33m\n",
      "\u001b[0mRequirement already satisfied: laspy in /Users/nmhillesund/Library/Python/3.9/lib/python/site-packages (2.3.0)\n",
      "Requirement already satisfied: numpy in /usr/local/lib/python3.9/site-packages (from laspy) (1.25.2)\n",
      "\u001b[33mDEPRECATION: Configuring installation scheme with distutils config files is deprecated and will no longer work in the near future. If you are using a Homebrew or Linuxbrew Python, please see discussion at https://github.com/Homebrew/homebrew-core/issues/76621\u001b[0m\u001b[33m\n",
      "\u001b[0m\n",
      "\u001b[1m[\u001b[0m\u001b[34;49mnotice\u001b[0m\u001b[1;39;49m]\u001b[0m\u001b[39;49m A new release of pip is available: \u001b[0m\u001b[31;49m23.1.2\u001b[0m\u001b[39;49m -> \u001b[0m\u001b[32;49m23.3.1\u001b[0m\n",
      "\u001b[1m[\u001b[0m\u001b[34;49mnotice\u001b[0m\u001b[1;39;49m]\u001b[0m\u001b[39;49m To update, run: \u001b[0m\u001b[32;49m/usr/local/opt/python@3.9/bin/python3.9 -m pip install --upgrade pip\u001b[0m\n",
      "\u001b[33mDEPRECATION: Configuring installation scheme with distutils config files is deprecated and will no longer work in the near future. If you are using a Homebrew or Linuxbrew Python, please see discussion at https://github.com/Homebrew/homebrew-core/issues/76621\u001b[0m\u001b[33m\n",
      "\u001b[0mRequirement already satisfied: open3d in /usr/local/lib/python3.9/site-packages (0.17.0)\n",
      "Requirement already satisfied: numpy>=1.18.0 in /usr/local/lib/python3.9/site-packages (from open3d) (1.25.2)\n",
      "Requirement already satisfied: dash>=2.6.0 in /usr/local/lib/python3.9/site-packages (from open3d) (2.14.1)\n",
      "Requirement already satisfied: werkzeug>=2.2.3 in /usr/local/lib/python3.9/site-packages (from open3d) (3.0.1)\n",
      "Requirement already satisfied: nbformat==5.7.0 in /usr/local/lib/python3.9/site-packages (from open3d) (5.7.0)\n",
      "Requirement already satisfied: configargparse in /usr/local/lib/python3.9/site-packages (from open3d) (1.7)\n",
      "Requirement already satisfied: addict in /usr/local/lib/python3.9/site-packages (from open3d) (2.4.0)\n",
      "Requirement already satisfied: pillow>=9.3.0 in /usr/local/lib/python3.9/site-packages (from open3d) (10.0.0)\n",
      "Requirement already satisfied: matplotlib>=3 in /usr/local/lib/python3.9/site-packages (from open3d) (3.8.0)\n",
      "Requirement already satisfied: pandas>=1.0 in /usr/local/lib/python3.9/site-packages (from open3d) (2.1.0)\n",
      "Requirement already satisfied: pyyaml>=5.4.1 in /usr/local/lib/python3.9/site-packages (from open3d) (6.0.1)\n",
      "Requirement already satisfied: scikit-learn>=0.21 in /usr/local/lib/python3.9/site-packages (from open3d) (1.3.2)\n",
      "Requirement already satisfied: tqdm in /usr/local/lib/python3.9/site-packages (from open3d) (4.66.1)\n",
      "Requirement already satisfied: pyquaternion in /usr/local/lib/python3.9/site-packages (from open3d) (0.9.9)\n",
      "Requirement already satisfied: fastjsonschema in /usr/local/lib/python3.9/site-packages (from nbformat==5.7.0->open3d) (2.18.1)\n",
      "Requirement already satisfied: jsonschema>=2.6 in /usr/local/lib/python3.9/site-packages (from nbformat==5.7.0->open3d) (4.4.0)\n",
      "Requirement already satisfied: jupyter-core in /usr/local/lib/python3.9/site-packages (from nbformat==5.7.0->open3d) (4.9.2)\n",
      "Requirement already satisfied: traitlets>=5.1 in /usr/local/lib/python3.9/site-packages (from nbformat==5.7.0->open3d) (5.1.1)\n",
      "Requirement already satisfied: Flask<3.1,>=1.0.4 in /usr/local/lib/python3.9/site-packages (from dash>=2.6.0->open3d) (3.0.0)\n",
      "Requirement already satisfied: plotly>=5.0.0 in /usr/local/lib/python3.9/site-packages (from dash>=2.6.0->open3d) (5.18.0)\n",
      "Requirement already satisfied: dash-html-components==2.0.0 in /usr/local/lib/python3.9/site-packages (from dash>=2.6.0->open3d) (2.0.0)\n",
      "Requirement already satisfied: dash-core-components==2.0.0 in /usr/local/lib/python3.9/site-packages (from dash>=2.6.0->open3d) (2.0.0)\n",
      "Requirement already satisfied: dash-table==5.0.0 in /usr/local/lib/python3.9/site-packages (from dash>=2.6.0->open3d) (5.0.0)\n",
      "Requirement already satisfied: typing-extensions>=4.1.1 in /Users/nmhillesund/Library/Python/3.9/lib/python/site-packages (from dash>=2.6.0->open3d) (4.7.1)\n",
      "Requirement already satisfied: requests in /usr/local/lib/python3.9/site-packages (from dash>=2.6.0->open3d) (2.27.1)\n",
      "Requirement already satisfied: retrying in /usr/local/lib/python3.9/site-packages (from dash>=2.6.0->open3d) (1.3.4)\n",
      "Requirement already satisfied: ansi2html in /usr/local/lib/python3.9/site-packages (from dash>=2.6.0->open3d) (1.8.0)\n",
      "Requirement already satisfied: nest-asyncio in /usr/local/lib/python3.9/site-packages (from dash>=2.6.0->open3d) (1.5.4)\n",
      "Requirement already satisfied: setuptools in /usr/local/lib/python3.9/site-packages (from dash>=2.6.0->open3d) (60.5.0)\n",
      "Requirement already satisfied: importlib-metadata in /usr/local/lib/python3.9/site-packages (from dash>=2.6.0->open3d) (6.8.0)\n",
      "Requirement already satisfied: contourpy>=1.0.1 in /usr/local/lib/python3.9/site-packages (from matplotlib>=3->open3d) (1.1.1)\n",
      "Requirement already satisfied: cycler>=0.10 in /usr/local/lib/python3.9/site-packages (from matplotlib>=3->open3d) (0.11.0)\n",
      "Requirement already satisfied: fonttools>=4.22.0 in /usr/local/lib/python3.9/site-packages (from matplotlib>=3->open3d) (4.42.1)\n",
      "Requirement already satisfied: kiwisolver>=1.0.1 in /usr/local/lib/python3.9/site-packages (from matplotlib>=3->open3d) (1.4.5)\n",
      "Requirement already satisfied: packaging>=20.0 in /usr/local/lib/python3.9/site-packages (from matplotlib>=3->open3d) (21.3)\n",
      "Requirement already satisfied: pyparsing>=2.3.1 in /usr/local/lib/python3.9/site-packages (from matplotlib>=3->open3d) (3.0.7)\n",
      "Requirement already satisfied: python-dateutil>=2.7 in /usr/local/lib/python3.9/site-packages (from matplotlib>=3->open3d) (2.8.2)\n",
      "Requirement already satisfied: importlib-resources>=3.2.0 in /usr/local/lib/python3.9/site-packages (from matplotlib>=3->open3d) (6.0.1)\n",
      "Requirement already satisfied: pytz>=2020.1 in /usr/local/lib/python3.9/site-packages (from pandas>=1.0->open3d) (2021.3)\n",
      "Requirement already satisfied: tzdata>=2022.1 in /usr/local/lib/python3.9/site-packages (from pandas>=1.0->open3d) (2023.3)\n",
      "Requirement already satisfied: scipy>=1.5.0 in /usr/local/lib/python3.9/site-packages (from scikit-learn>=0.21->open3d) (1.11.3)\n",
      "Requirement already satisfied: joblib>=1.1.1 in /usr/local/lib/python3.9/site-packages (from scikit-learn>=0.21->open3d) (1.3.2)\n",
      "Requirement already satisfied: threadpoolctl>=2.0.0 in /usr/local/lib/python3.9/site-packages (from scikit-learn>=0.21->open3d) (3.2.0)\n",
      "Requirement already satisfied: MarkupSafe>=2.1.1 in /usr/local/lib/python3.9/site-packages (from werkzeug>=2.2.3->open3d) (2.1.1)\n",
      "Requirement already satisfied: Jinja2>=3.1.2 in /usr/local/lib/python3.9/site-packages (from Flask<3.1,>=1.0.4->dash>=2.6.0->open3d) (3.1.2)\n",
      "Requirement already satisfied: itsdangerous>=2.1.2 in /usr/local/lib/python3.9/site-packages (from Flask<3.1,>=1.0.4->dash>=2.6.0->open3d) (2.1.2)\n",
      "Requirement already satisfied: click>=8.1.3 in /usr/local/lib/python3.9/site-packages (from Flask<3.1,>=1.0.4->dash>=2.6.0->open3d) (8.1.7)\n",
      "Requirement already satisfied: blinker>=1.6.2 in /usr/local/lib/python3.9/site-packages (from Flask<3.1,>=1.0.4->dash>=2.6.0->open3d) (1.6.3)\n",
      "Requirement already satisfied: zipp>=0.5 in /usr/local/lib/python3.9/site-packages (from importlib-metadata->dash>=2.6.0->open3d) (3.16.2)\n",
      "Requirement already satisfied: attrs>=17.4.0 in /usr/local/lib/python3.9/site-packages (from jsonschema>=2.6->nbformat==5.7.0->open3d) (21.4.0)\n",
      "Requirement already satisfied: pyrsistent!=0.17.0,!=0.17.1,!=0.17.2,>=0.14.0 in /usr/local/lib/python3.9/site-packages (from jsonschema>=2.6->nbformat==5.7.0->open3d) (0.18.1)\n",
      "Requirement already satisfied: tenacity>=6.2.0 in /usr/local/lib/python3.9/site-packages (from plotly>=5.0.0->dash>=2.6.0->open3d) (8.2.3)\n",
      "Requirement already satisfied: six>=1.5 in /usr/local/lib/python3.9/site-packages (from python-dateutil>=2.7->matplotlib>=3->open3d) (1.16.0)\n",
      "Requirement already satisfied: urllib3<1.27,>=1.21.1 in /usr/local/lib/python3.9/site-packages (from requests->dash>=2.6.0->open3d) (1.26.8)\n",
      "Requirement already satisfied: certifi>=2017.4.17 in /usr/local/lib/python3.9/site-packages (from requests->dash>=2.6.0->open3d) (2021.10.8)\n",
      "Requirement already satisfied: charset-normalizer~=2.0.0 in /Users/nmhillesund/Library/Python/3.9/lib/python/site-packages (from requests->dash>=2.6.0->open3d) (2.0.10)\n",
      "Requirement already satisfied: idna<4,>=2.5 in /usr/local/lib/python3.9/site-packages (from requests->dash>=2.6.0->open3d) (3.3)\n"
     ]
    },
    {
     "name": "stdout",
     "output_type": "stream",
     "text": [
      "\u001b[33mDEPRECATION: Configuring installation scheme with distutils config files is deprecated and will no longer work in the near future. If you are using a Homebrew or Linuxbrew Python, please see discussion at https://github.com/Homebrew/homebrew-core/issues/76621\u001b[0m\u001b[33m\n",
      "\u001b[0m\n",
      "\u001b[1m[\u001b[0m\u001b[34;49mnotice\u001b[0m\u001b[1;39;49m]\u001b[0m\u001b[39;49m A new release of pip is available: \u001b[0m\u001b[31;49m23.1.2\u001b[0m\u001b[39;49m -> \u001b[0m\u001b[32;49m23.3.1\u001b[0m\n",
      "\u001b[1m[\u001b[0m\u001b[34;49mnotice\u001b[0m\u001b[1;39;49m]\u001b[0m\u001b[39;49m To update, run: \u001b[0m\u001b[32;49m/usr/local/opt/python@3.9/bin/python3.9 -m pip install --upgrade pip\u001b[0m\n",
      "Defaulting to user installation because normal site-packages is not writeable\n",
      "Requirement already satisfied: laspy[laszip,lazrs] in /Users/nmhillesund/Library/Python/3.9/lib/python/site-packages (2.3.0)\n",
      "Requirement already satisfied: numpy in /Library/Frameworks/Python.framework/Versions/3.9/lib/python3.9/site-packages (from laspy[laszip,lazrs]) (1.20.2)\n",
      "Requirement already satisfied: lazrs<0.5.0,>=0.4.3 in /Users/nmhillesund/Library/Python/3.9/lib/python/site-packages (from laspy[laszip,lazrs]) (0.4.5)\n",
      "Requirement already satisfied: laszip<0.2.0,>=0.1.0 in /Users/nmhillesund/Library/Python/3.9/lib/python/site-packages (from laspy[laszip,lazrs]) (0.1.0)\n",
      "\n",
      "\u001b[1m[\u001b[0m\u001b[34;49mnotice\u001b[0m\u001b[1;39;49m]\u001b[0m\u001b[39;49m A new release of pip is available: \u001b[0m\u001b[31;49m23.1.2\u001b[0m\u001b[39;49m -> \u001b[0m\u001b[32;49m23.3.1\u001b[0m\n",
      "\u001b[1m[\u001b[0m\u001b[34;49mnotice\u001b[0m\u001b[1;39;49m]\u001b[0m\u001b[39;49m To update, run: \u001b[0m\u001b[32;49mpython3 -m pip install --upgrade pip\u001b[0m\n"
     ]
    }
   ],
   "source": [
    "!pip install laspy\n",
    "!pip install open3d\n",
    "!python3 -m pip install \"laspy[lazrs,laszip]\""
   ]
  },
  {
   "cell_type": "code",
   "execution_count": 2,
   "id": "b9ab59ed",
   "metadata": {},
   "outputs": [],
   "source": [
    "#imports\n",
    "import laspy \n",
    "import open3d as o3d\n",
    "import numpy as np\n",
    "import os\n",
    "import matplotlib.pyplot as plt"
   ]
  },
  {
   "cell_type": "code",
   "execution_count": 5,
   "id": "3c9931f6",
   "metadata": {},
   "outputs": [
    {
     "name": "stdout",
     "output_type": "stream",
     "text": [
      "reduced from 15568025 to 11248498 points\n",
      " 27.74614634804351 % less points\n"
     ]
    }
   ],
   "source": [
    "las_path = \"data.laz\"\n",
    "las_data = laspy.read(las_path)\n",
    "\n",
    "\n",
    "def filter_by_classification(las_path, desired_classification=1):\n",
    "    # Read the LAS file\n",
    "    las_data = laspy.read(las_path)\n",
    "\n",
    "    # Extract the points and classifications from the LAS file\n",
    "    points = np.vstack((las_data.x, las_data.y, las_data.z)).transpose()\n",
    "    classifications = las_data.classification\n",
    "    \n",
    "    # Filter points based on the desired classification\n",
    "    filtered_points = points[classifications == desired_classification]\n",
    "\n",
    "    # Create an Open3D PointCloud object\n",
    "    pcd = o3d.geometry.PointCloud()\n",
    "    pcd.points = o3d.utility.Vector3dVector(filtered_points)\n",
    "    num0 = points.shape[0]\n",
    "    num1 = filtered_points.shape[0]\n",
    "    print(f'reduced from {num0} to {num1} points')\n",
    "    print(f' {100-(num1/num0 * 100)} % less points')\n",
    "\n",
    "    return pcd\n",
    "\n",
    "# Usage\n",
    "pcd = filter_by_classification(\"data.laz\")"
   ]
  },
  {
   "cell_type": "code",
   "execution_count": 7,
   "id": "ef0530da",
   "metadata": {},
   "outputs": [
    {
     "data": {
      "image/png": "[encoded data removed]",
      "text/plain": [
       "<Figure size 720x432 with 1 Axes>"
      ]
     },
     "metadata": {
      "needs_background": "light"
     },
     "output_type": "display_data"
    }
   ],
   "source": [
    "# Height histogram\n",
    "\n",
    "# Convert the point cloud to a numpy array\n",
    "points = np.asarray(pcd.points)\n",
    "\n",
    "# Assuming dataset is your point cloud data as a numpy array\n",
    "z_values = points[:, 2]\n",
    "\n",
    "plt.figure(figsize=(10, 6))\n",
    "plt.hist(z_values, bins=100, color='blue', alpha=0.7)\n",
    "plt.xlabel('Height (Z) Value')\n",
    "plt.ylabel('Number of Points')\n",
    "plt.title('Histogram of Height Values')\n",
    "plt.grid(True)\n",
    "plt.show()"
   ]
  },
  {
   "cell_type": "code",
   "execution_count": null,
   "id": "c8200083",
   "metadata": {},
   "outputs": [],
   "source": [
    "# Downsampling"
   ]
  }
 ],
 "metadata": {
  "kernelspec": {
   "display_name": "Python 3 (ipykernel)",
   "language": "python",
   "name": "python3"
  },
  "language_info": {
   "codemirror_mode": {
    "name": "ipython",
    "version": 3
   },
   "file_extension": ".py",
   "mimetype": "text/x-python",
   "name": "python",
   "nbconvert_exporter": "python",
   "pygments_lexer": "ipython3",
   "version": "3.9.10"
  }
 },
 "nbformat": 4,
 "nbformat_minor": 5
}
